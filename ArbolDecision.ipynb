{
  "nbformat": 4,
  "nbformat_minor": 0,
  "metadata": {
    "colab": {
      "name": "ArbolDecision.ipynb",
      "provenance": [],
      "collapsed_sections": [],
      "authorship_tag": "ABX9TyMU0TVXZKUsI4pF+uz4s/WQ",
      "include_colab_link": true
    },
    "kernelspec": {
      "name": "ir",
      "display_name": "R"
    },
    "language_info": {
      "name": "R"
    }
  },
  "cells": [
    {
      "cell_type": "markdown",
      "metadata": {
        "id": "view-in-github",
        "colab_type": "text"
      },
      "source": [
        "<a href=\"https://colab.research.google.com/github/ArletteCL/Diplo/blob/main/ArbolDecision.ipynb\" target=\"_parent\"><img src=\"https://colab.research.google.com/assets/colab-badge.svg\" alt=\"Open In Colab\"/></a>"
      ]
    },
    {
      "cell_type": "code",
      "metadata": {
        "id": "-TQGT8XdMf18"
      },
      "source": [
        "#instalar paquetes\n",
        "install.packages(\"tidyverse\")\n",
        "install.packages(\"dplyr\")\n",
        "install.packages(\"rpart\")\n",
        "install.packages(\"rpart.plot\")\n",
        "install.packages(\"caret\")\n"
      ],
      "execution_count": null,
      "outputs": []
    },
    {
      "cell_type": "code",
      "metadata": {
        "id": "g-Dwu65HPtEW"
      },
      "source": [
        "install.packages(\"purrr\")"
      ],
      "execution_count": null,
      "outputs": []
    },
    {
      "cell_type": "code",
      "metadata": {
        "id": "nwrezVIHNrlY"
      },
      "source": [
        "#carga de librería y set de datos\n",
        "library(rpart)\n",
        "library(rpart.plot)\n",
        "library(tidyverse)\n",
        "library(caret)"
      ],
      "execution_count": 9,
      "outputs": []
    },
    {
      "cell_type": "code",
      "metadata": {
        "id": "n_uixSvHQFr7"
      },
      "source": [
        "#lectura de data\n",
        "dataArbol <- read.csv(\"https://raw.githubusercontent.com/ArletteCL/Diplo/main/Base%20An%C3%A1lisis%20de%20Fuga.csv\")"
      ],
      "execution_count": 10,
      "outputs": []
    },
    {
      "cell_type": "code",
      "metadata": {
        "colab": {
          "base_uri": "https://localhost:8080/",
          "height": 425
        },
        "id": "baClT8kRQa8e",
        "outputId": "50a0846f-fc65-486d-f60f-bd0b7af20d4a"
      },
      "source": [
        "# class(dataArbol)\n",
        "# summary(dataArbol)\n",
        "head(dataArbol, 10)"
      ],
      "execution_count": 12,
      "outputs": [
        {
          "output_type": "display_data",
          "data": {
            "text/plain": [
              "   IdCliente Plan.Internacional.Preferente Plan.Internet.Ilimitado MB.navegados\n",
              "1   1        No                            Si                      2500        \n",
              "2   2        No                            Si                      2600        \n",
              "3   3        No                            No                         0        \n",
              "4   4        Si                            No                         0        \n",
              "5   5        Si                            No                         0        \n",
              "6   6        Si                            No                         0        \n",
              "7   7        No                            Si                      2400        \n",
              "8   8        Si                            No                         0        \n",
              "9   9        No                            No                         0        \n",
              "10 10        Si                            Si                      3700        \n",
              "   Total.minutos.horario.normal Total.llamadas.horario.normal\n",
              "1  265.1                        110                          \n",
              "2  161.6                        123                          \n",
              "3  243.4                        114                          \n",
              "4  299.4                         71                          \n",
              "5  166.7                        113                          \n",
              "6  223.4                         98                          \n",
              "7  218.2                         88                          \n",
              "8  157.0                         79                          \n",
              "9  184.5                         97                          \n",
              "10 258.6                         84                          \n",
              "   Cobro.llamadas.horario.normal Total.minutos.horario.reducido\n",
              "1  24834                         197.4                         \n",
              "2  15136                         195.5                         \n",
              "3  22800                         121.2                         \n",
              "4  28046                          61.9                         \n",
              "5  15615                         148.3                         \n",
              "6  20927                         220.6                         \n",
              "7  20437                         348.5                         \n",
              "8  14706                         103.1                         \n",
              "9  17285                         351.6                         \n",
              "10 24222                         222.0                         \n",
              "   Total.llamadas.horario.reducido Cobro.llamadas.horario.reducido\n",
              "1   99                              9246                          \n",
              "2  103                              9158                          \n",
              "3  110                              5675                          \n",
              "4   88                              2898                          \n",
              "5  122                              6948                          \n",
              "6  101                             10331                          \n",
              "7  108                             16321                          \n",
              "8   94                              4827                          \n",
              "9   80                             16469                          \n",
              "10 111                             10397                          \n",
              "   Total.minutos.horario.nocturno Total.llamadas.horario.nocturno\n",
              "1  244.7                           91                            \n",
              "2  254.4                          103                            \n",
              "3  162.6                          104                            \n",
              "4  196.9                           89                            \n",
              "5  186.9                          121                            \n",
              "6  203.9                          118                            \n",
              "7  212.6                          118                            \n",
              "8  211.8                           96                            \n",
              "9  215.8                           90                            \n",
              "10 326.4                           97                            \n",
              "   Cobro.llamadas.horario.nocturno Total.minutos.llamadas.internacionales\n",
              "1  6067                            10.0                                  \n",
              "2  6309                            13.7                                  \n",
              "3  4033                            12.2                                  \n",
              "4  4882                             6.6                                  \n",
              "5  4634                            10.1                                  \n",
              "6  5058                             6.3                                  \n",
              "7  5273                             7.5                                  \n",
              "8  5251                             7.1                                  \n",
              "9  5350                             8.7                                  \n",
              "10 8094                            11.2                                  \n",
              "   Total.llamadas.internacionales Cobro.llamadas.internacionales\n",
              "1  3                              1488                          \n",
              "2  3                              2039                          \n",
              "3  5                              1813                          \n",
              "4  7                               818                          \n",
              "5  3                              1252                          \n",
              "6  6                               781                          \n",
              "7  7                              1119                          \n",
              "8  6                               880                          \n",
              "9  4                              1295                          \n",
              "10 5                              1389                          \n",
              "   Llamadas.a.servicio.de.atención.al.cliente Fuga   \n",
              "1  1                                          Vigente\n",
              "2  1                                          Vigente\n",
              "3  0                                          Vigente\n",
              "4  2                                          Vigente\n",
              "5  3                                          Vigente\n",
              "6  0                                          Vigente\n",
              "7  3                                          Vigente\n",
              "8  0                                          Vigente\n",
              "9  1                                          Vigente\n",
              "10 0                                          Vigente"
            ],
            "text/latex": "A data.frame: 10 × 18\n\\begin{tabular}{r|llllllllllllllllll}\n  & IdCliente & Plan.Internacional.Preferente & Plan.Internet.Ilimitado & MB.navegados & Total.minutos.horario.normal & Total.llamadas.horario.normal & Cobro.llamadas.horario.normal & Total.minutos.horario.reducido & Total.llamadas.horario.reducido & Cobro.llamadas.horario.reducido & Total.minutos.horario.nocturno & Total.llamadas.horario.nocturno & Cobro.llamadas.horario.nocturno & Total.minutos.llamadas.internacionales & Total.llamadas.internacionales & Cobro.llamadas.internacionales & Llamadas.a.servicio.de.atención.al.cliente & Fuga\\\\\n  & <int> & <chr> & <chr> & <int> & <dbl> & <int> & <int> & <dbl> & <int> & <int> & <dbl> & <int> & <int> & <dbl> & <int> & <int> & <int> & <chr>\\\\\n\\hline\n\t1 &  1 & No & Si & 2500 & 265.1 & 110 & 24834 & 197.4 &  99 &  9246 & 244.7 &  91 & 6067 & 10.0 & 3 & 1488 & 1 & Vigente\\\\\n\t2 &  2 & No & Si & 2600 & 161.6 & 123 & 15136 & 195.5 & 103 &  9158 & 254.4 & 103 & 6309 & 13.7 & 3 & 2039 & 1 & Vigente\\\\\n\t3 &  3 & No & No &    0 & 243.4 & 114 & 22800 & 121.2 & 110 &  5675 & 162.6 & 104 & 4033 & 12.2 & 5 & 1813 & 0 & Vigente\\\\\n\t4 &  4 & Si & No &    0 & 299.4 &  71 & 28046 &  61.9 &  88 &  2898 & 196.9 &  89 & 4882 &  6.6 & 7 &  818 & 2 & Vigente\\\\\n\t5 &  5 & Si & No &    0 & 166.7 & 113 & 15615 & 148.3 & 122 &  6948 & 186.9 & 121 & 4634 & 10.1 & 3 & 1252 & 3 & Vigente\\\\\n\t6 &  6 & Si & No &    0 & 223.4 &  98 & 20927 & 220.6 & 101 & 10331 & 203.9 & 118 & 5058 &  6.3 & 6 &  781 & 0 & Vigente\\\\\n\t7 &  7 & No & Si & 2400 & 218.2 &  88 & 20437 & 348.5 & 108 & 16321 & 212.6 & 118 & 5273 &  7.5 & 7 & 1119 & 3 & Vigente\\\\\n\t8 &  8 & Si & No &    0 & 157.0 &  79 & 14706 & 103.1 &  94 &  4827 & 211.8 &  96 & 5251 &  7.1 & 6 &  880 & 0 & Vigente\\\\\n\t9 &  9 & No & No &    0 & 184.5 &  97 & 17285 & 351.6 &  80 & 16469 & 215.8 &  90 & 5350 &  8.7 & 4 & 1295 & 1 & Vigente\\\\\n\t10 & 10 & Si & Si & 3700 & 258.6 &  84 & 24222 & 222.0 & 111 & 10397 & 326.4 &  97 & 8094 & 11.2 & 5 & 1389 & 0 & Vigente\\\\\n\\end{tabular}\n",
            "text/markdown": "\nA data.frame: 10 × 18\n\n| <!--/--> | IdCliente &lt;int&gt; | Plan.Internacional.Preferente &lt;chr&gt; | Plan.Internet.Ilimitado &lt;chr&gt; | MB.navegados &lt;int&gt; | Total.minutos.horario.normal &lt;dbl&gt; | Total.llamadas.horario.normal &lt;int&gt; | Cobro.llamadas.horario.normal &lt;int&gt; | Total.minutos.horario.reducido &lt;dbl&gt; | Total.llamadas.horario.reducido &lt;int&gt; | Cobro.llamadas.horario.reducido &lt;int&gt; | Total.minutos.horario.nocturno &lt;dbl&gt; | Total.llamadas.horario.nocturno &lt;int&gt; | Cobro.llamadas.horario.nocturno &lt;int&gt; | Total.minutos.llamadas.internacionales &lt;dbl&gt; | Total.llamadas.internacionales &lt;int&gt; | Cobro.llamadas.internacionales &lt;int&gt; | Llamadas.a.servicio.de.atención.al.cliente &lt;int&gt; | Fuga &lt;chr&gt; |\n|---|---|---|---|---|---|---|---|---|---|---|---|---|---|---|---|---|---|---|\n| 1 |  1 | No | Si | 2500 | 265.1 | 110 | 24834 | 197.4 |  99 |  9246 | 244.7 |  91 | 6067 | 10.0 | 3 | 1488 | 1 | Vigente |\n| 2 |  2 | No | Si | 2600 | 161.6 | 123 | 15136 | 195.5 | 103 |  9158 | 254.4 | 103 | 6309 | 13.7 | 3 | 2039 | 1 | Vigente |\n| 3 |  3 | No | No |    0 | 243.4 | 114 | 22800 | 121.2 | 110 |  5675 | 162.6 | 104 | 4033 | 12.2 | 5 | 1813 | 0 | Vigente |\n| 4 |  4 | Si | No |    0 | 299.4 |  71 | 28046 |  61.9 |  88 |  2898 | 196.9 |  89 | 4882 |  6.6 | 7 |  818 | 2 | Vigente |\n| 5 |  5 | Si | No |    0 | 166.7 | 113 | 15615 | 148.3 | 122 |  6948 | 186.9 | 121 | 4634 | 10.1 | 3 | 1252 | 3 | Vigente |\n| 6 |  6 | Si | No |    0 | 223.4 |  98 | 20927 | 220.6 | 101 | 10331 | 203.9 | 118 | 5058 |  6.3 | 6 |  781 | 0 | Vigente |\n| 7 |  7 | No | Si | 2400 | 218.2 |  88 | 20437 | 348.5 | 108 | 16321 | 212.6 | 118 | 5273 |  7.5 | 7 | 1119 | 3 | Vigente |\n| 8 |  8 | Si | No |    0 | 157.0 |  79 | 14706 | 103.1 |  94 |  4827 | 211.8 |  96 | 5251 |  7.1 | 6 |  880 | 0 | Vigente |\n| 9 |  9 | No | No |    0 | 184.5 |  97 | 17285 | 351.6 |  80 | 16469 | 215.8 |  90 | 5350 |  8.7 | 4 | 1295 | 1 | Vigente |\n| 10 | 10 | Si | Si | 3700 | 258.6 |  84 | 24222 | 222.0 | 111 | 10397 | 326.4 |  97 | 8094 | 11.2 | 5 | 1389 | 0 | Vigente |\n\n",
            "text/html": [
              "<table class=\"dataframe\">\n",
              "<caption>A data.frame: 10 × 18</caption>\n",
              "<thead>\n",
              "\t<tr><th></th><th scope=col>IdCliente</th><th scope=col>Plan.Internacional.Preferente</th><th scope=col>Plan.Internet.Ilimitado</th><th scope=col>MB.navegados</th><th scope=col>Total.minutos.horario.normal</th><th scope=col>Total.llamadas.horario.normal</th><th scope=col>Cobro.llamadas.horario.normal</th><th scope=col>Total.minutos.horario.reducido</th><th scope=col>Total.llamadas.horario.reducido</th><th scope=col>Cobro.llamadas.horario.reducido</th><th scope=col>Total.minutos.horario.nocturno</th><th scope=col>Total.llamadas.horario.nocturno</th><th scope=col>Cobro.llamadas.horario.nocturno</th><th scope=col>Total.minutos.llamadas.internacionales</th><th scope=col>Total.llamadas.internacionales</th><th scope=col>Cobro.llamadas.internacionales</th><th scope=col>Llamadas.a.servicio.de.atención.al.cliente</th><th scope=col>Fuga</th></tr>\n",
              "\t<tr><th></th><th scope=col>&lt;int&gt;</th><th scope=col>&lt;chr&gt;</th><th scope=col>&lt;chr&gt;</th><th scope=col>&lt;int&gt;</th><th scope=col>&lt;dbl&gt;</th><th scope=col>&lt;int&gt;</th><th scope=col>&lt;int&gt;</th><th scope=col>&lt;dbl&gt;</th><th scope=col>&lt;int&gt;</th><th scope=col>&lt;int&gt;</th><th scope=col>&lt;dbl&gt;</th><th scope=col>&lt;int&gt;</th><th scope=col>&lt;int&gt;</th><th scope=col>&lt;dbl&gt;</th><th scope=col>&lt;int&gt;</th><th scope=col>&lt;int&gt;</th><th scope=col>&lt;int&gt;</th><th scope=col>&lt;chr&gt;</th></tr>\n",
              "</thead>\n",
              "<tbody>\n",
              "\t<tr><th scope=row>1</th><td> 1</td><td>No</td><td>Si</td><td>2500</td><td>265.1</td><td>110</td><td>24834</td><td>197.4</td><td> 99</td><td> 9246</td><td>244.7</td><td> 91</td><td>6067</td><td>10.0</td><td>3</td><td>1488</td><td>1</td><td>Vigente</td></tr>\n",
              "\t<tr><th scope=row>2</th><td> 2</td><td>No</td><td>Si</td><td>2600</td><td>161.6</td><td>123</td><td>15136</td><td>195.5</td><td>103</td><td> 9158</td><td>254.4</td><td>103</td><td>6309</td><td>13.7</td><td>3</td><td>2039</td><td>1</td><td>Vigente</td></tr>\n",
              "\t<tr><th scope=row>3</th><td> 3</td><td>No</td><td>No</td><td>   0</td><td>243.4</td><td>114</td><td>22800</td><td>121.2</td><td>110</td><td> 5675</td><td>162.6</td><td>104</td><td>4033</td><td>12.2</td><td>5</td><td>1813</td><td>0</td><td>Vigente</td></tr>\n",
              "\t<tr><th scope=row>4</th><td> 4</td><td>Si</td><td>No</td><td>   0</td><td>299.4</td><td> 71</td><td>28046</td><td> 61.9</td><td> 88</td><td> 2898</td><td>196.9</td><td> 89</td><td>4882</td><td> 6.6</td><td>7</td><td> 818</td><td>2</td><td>Vigente</td></tr>\n",
              "\t<tr><th scope=row>5</th><td> 5</td><td>Si</td><td>No</td><td>   0</td><td>166.7</td><td>113</td><td>15615</td><td>148.3</td><td>122</td><td> 6948</td><td>186.9</td><td>121</td><td>4634</td><td>10.1</td><td>3</td><td>1252</td><td>3</td><td>Vigente</td></tr>\n",
              "\t<tr><th scope=row>6</th><td> 6</td><td>Si</td><td>No</td><td>   0</td><td>223.4</td><td> 98</td><td>20927</td><td>220.6</td><td>101</td><td>10331</td><td>203.9</td><td>118</td><td>5058</td><td> 6.3</td><td>6</td><td> 781</td><td>0</td><td>Vigente</td></tr>\n",
              "\t<tr><th scope=row>7</th><td> 7</td><td>No</td><td>Si</td><td>2400</td><td>218.2</td><td> 88</td><td>20437</td><td>348.5</td><td>108</td><td>16321</td><td>212.6</td><td>118</td><td>5273</td><td> 7.5</td><td>7</td><td>1119</td><td>3</td><td>Vigente</td></tr>\n",
              "\t<tr><th scope=row>8</th><td> 8</td><td>Si</td><td>No</td><td>   0</td><td>157.0</td><td> 79</td><td>14706</td><td>103.1</td><td> 94</td><td> 4827</td><td>211.8</td><td> 96</td><td>5251</td><td> 7.1</td><td>6</td><td> 880</td><td>0</td><td>Vigente</td></tr>\n",
              "\t<tr><th scope=row>9</th><td> 9</td><td>No</td><td>No</td><td>   0</td><td>184.5</td><td> 97</td><td>17285</td><td>351.6</td><td> 80</td><td>16469</td><td>215.8</td><td> 90</td><td>5350</td><td> 8.7</td><td>4</td><td>1295</td><td>1</td><td>Vigente</td></tr>\n",
              "\t<tr><th scope=row>10</th><td>10</td><td>Si</td><td>Si</td><td>3700</td><td>258.6</td><td> 84</td><td>24222</td><td>222.0</td><td>111</td><td>10397</td><td>326.4</td><td> 97</td><td>8094</td><td>11.2</td><td>5</td><td>1389</td><td>0</td><td>Vigente</td></tr>\n",
              "</tbody>\n",
              "</table>\n"
            ]
          },
          "metadata": {
            "tags": []
          }
        }
      ]
    }
  ]
}